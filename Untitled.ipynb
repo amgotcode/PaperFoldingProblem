{
 "cells": [
  {
   "cell_type": "code",
   "execution_count": 1,
   "id": "266d3a02-459c-4853-969c-7d446648414e",
   "metadata": {},
   "outputs": [
    {
     "name": "stdout",
     "output_type": "stream",
     "text": [
      "私の名前はAliceです。\n"
     ]
    }
   ],
   "source": [
    "student_name = \"Alice\"\n",
    "print(f\"私の名前は{student_name}です。\")"
   ]
  },
  {
   "cell_type": "code",
   "execution_count": 2,
   "id": "6e65be0a-073f-4f1e-9869-34a0e15d1872",
   "metadata": {},
   "outputs": [
    {
     "name": "stdout",
     "output_type": "stream",
     "text": [
      "私は19歳で、名前はAliceです。\n"
     ]
    }
   ],
   "source": [
    "student_name = \"Alice\"\n",
    "student_age = 19\n",
    "print(\"私は{1}歳で、名前は{0}です。\".format(student_name, student_age))"
   ]
  },
  {
   "cell_type": "code",
   "execution_count": 3,
   "id": "69637db6-9910-4e57-b8ca-cbf1b502e050",
   "metadata": {},
   "outputs": [
    {
     "name": "stdout",
     "output_type": "stream",
     "text": [
      "学生の年齢:19\n"
     ]
    }
   ],
   "source": [
    "print(\"学生の年齢\", student_age, sep=\":\")"
   ]
  },
  {
   "cell_type": "code",
   "execution_count": 5,
   "id": "18448e57-aee8-4496-ae1d-26750986fb5d",
   "metadata": {},
   "outputs": [
    {
     "name": "stdout",
     "output_type": "stream",
     "text": [
      "A081\n",
      "A081\n",
      "A114\n"
     ]
    }
   ],
   "source": [
    "user_ids = (\"A081\", \"A114\", \"A186\")\n",
    "user_id1, user_id2, user_id3 = user_ids\n",
    "print (user_id1)\n",
    "print (user_id1)\n",
    "print (user_id2)"
   ]
  },
  {
   "cell_type": "code",
   "execution_count": 6,
   "id": "8a672402-3522-415f-8900-9f762fa494f5",
   "metadata": {},
   "outputs": [
    {
     "name": "stdout",
     "output_type": "stream",
     "text": [
      "A081\n",
      "A114\n",
      "A186\n"
     ]
    }
   ],
   "source": [
    "for i in range(3):\n",
    "    print (user_ids[i])"
   ]
  },
  {
   "cell_type": "code",
   "execution_count": 7,
   "id": "c0c0380f-6d96-4745-abad-7e5789cb7472",
   "metadata": {},
   "outputs": [
    {
     "name": "stdout",
     "output_type": "stream",
     "text": [
      "1月の平均気温は6度です。\n",
      "2月の平均気温は7度です。\n",
      "3月の平均気温は9度です。\n",
      "4月の平均気温は15度です。\n",
      "5月の平均気温は20度です。\n",
      "6月の平均気温は22度です。\n",
      "7月の平均気温は27度です。\n",
      "8月の平均気温は26度です。\n",
      "9月の平均気温は23度です。\n",
      "10月の平均気温は17度です。\n",
      "11月の平均気温は12度です。\n",
      "12月の平均気温は7度です。\n"
     ]
    }
   ],
   "source": [
    "monthly_average_temperatures = [6, 7, 9, 15, 20, 22, 27, 26, 23, 17, 12, 7]\n",
    "for i, temperature in enumerate(monthly_average_temperatures):\n",
    "  print(\"{}月の平均気温は{}度です。\".format(i+1, temperature))"
   ]
  },
  {
   "cell_type": "code",
   "execution_count": 10,
   "id": "32678693-5d77-4b21-8686-bb98a77af70b",
   "metadata": {},
   "outputs": [
    {
     "name": "stdout",
     "output_type": "stream",
     "text": [
      "1 is 6\n",
      "2 is 7\n",
      "3 is 9\n",
      "4 is 15\n",
      "5 is 20\n",
      "6 is 22\n",
      "7 is 27\n",
      "8 is 26\n",
      "9 is 23\n",
      "10 is 17\n",
      "11 is 12\n",
      "12 is 7\n"
     ]
    }
   ],
   "source": [
    "MONTH_NUMBERS = list(range(1,13))\n",
    "monthly_average_temperatures = [6, 7, 9, 15, 20, 22, 27, 26, 23, 17, 12, 7]\n",
    "for month_number, temperature in zip(MONTH_NUMBERS, monthly_average_temperatures):\n",
    "  print(\"{} is {}\".format(month_number, temperature))"
   ]
  },
  {
   "cell_type": "code",
   "execution_count": null,
   "id": "beb2493d-9d6d-466b-a439-a82787d1773e",
   "metadata": {},
   "outputs": [],
   "source": []
  }
 ],
 "metadata": {
  "kernelspec": {
   "display_name": "Python 3 (ipykernel)",
   "language": "python",
   "name": "python3"
  },
  "language_info": {
   "codemirror_mode": {
    "name": "ipython",
    "version": 3
   },
   "file_extension": ".py",
   "mimetype": "text/x-python",
   "name": "python",
   "nbconvert_exporter": "python",
   "pygments_lexer": "ipython3",
   "version": "3.12.7"
  }
 },
 "nbformat": 4,
 "nbformat_minor": 5
}
